{
 "cells": [
  {
   "cell_type": "code",
   "execution_count": 1,
   "metadata": {},
   "outputs": [
    {
     "name": "stdout",
     "output_type": "stream",
     "text": [
      "(1000, 927, 3)\n",
      "[          nan           nan 2182.62547991]\n"
     ]
    }
   ],
   "source": [
    "import numpy as np\n",
    "\n",
    "loaded = np.load(\"/home/vincentwork/Synthetic_TS_Data_Gen/data/macroeconomic.npz\")\n",
    "data = loaded[\"data\"]\n",
    "print(data.shape) # Output: (764, 24, 6)\n",
    "print(data[0][0])\n",
    "### NOTES ###\n",
    "    # Samples, Timestamps, Features\n",
    "    # Percent 20 means 20% of the full data\n",
    "    # 100% data for stocks is 3919\n",
    "### Investigate Further ###\n",
    "    # Why are there multiple samples (is this for mean and standard deviation)\n",
    "    # What are the features\n",
    "    # What are the timestamps"
   ]
  }
 ],
 "metadata": {
  "kernelspec": {
   "display_name": ".venv",
   "language": "python",
   "name": "python3"
  },
  "language_info": {
   "codemirror_mode": {
    "name": "ipython",
    "version": 3
   },
   "file_extension": ".py",
   "mimetype": "text/x-python",
   "name": "python",
   "nbconvert_exporter": "python",
   "pygments_lexer": "ipython3",
   "version": "3.11.11"
  }
 },
 "nbformat": 4,
 "nbformat_minor": 2
}

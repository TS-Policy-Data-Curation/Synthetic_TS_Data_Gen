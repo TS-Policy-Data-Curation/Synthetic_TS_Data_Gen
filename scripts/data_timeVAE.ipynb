{
 "cells": [
  {
   "cell_type": "code",
   "execution_count": null,
   "metadata": {},
   "outputs": [],
   "source": [
    "import numpy as np\n",
    "\n",
    "loaded = np.load(\"./data/air_subsampled_train_perc_20.npz\")\n",
    "data = loaded[\"data\"]\n",
    "print(data.shape) # Output: (764, 24, 6)\n",
    "print(data[0][0])\n",
    "### NOTES ###\n",
    "    # Samples, Timestamps, Features\n",
    "    # Percent 20 means 20% of the full data\n",
    "    # 100% data for stocks is 3919\n",
    "### Investigate Further ###\n",
    "    # Why are there multiple samples (is this for mean and standard deviation)\n",
    "    # What are the features\n",
    "    # What are the timestamps"
   ]
  }
 ],
 "metadata": {
  "kernelspec": {
   "display_name": ".venv",
   "language": "python",
   "name": "python3"
  },
  "language_info": {
   "name": "python",
   "version": "3.11.11"
  }
 },
 "nbformat": 4,
 "nbformat_minor": 2
}
